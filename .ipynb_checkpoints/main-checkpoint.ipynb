{
 "cells": [
  {
   "cell_type": "code",
   "execution_count": 10,
   "id": "77101d75",
   "metadata": {},
   "outputs": [],
   "source": [
    "import mysql.connector\n",
    "\n",
    "con = mysql.connector.connect(user='root', password='root', host='localhost', database='poc-cadastro')\n",
    "cursor = con.cursor()"
   ]
  },
  {
   "cell_type": "code",
   "execution_count": 11,
   "id": "7645d1b5",
   "metadata": {},
   "outputs": [],
   "source": [
    "with open('data.csv') as file:\n",
    "  dataFrame = [row.split(',') for row in file.read().split('\\n')]\n",
    "\n",
    "file.close()\n",
    "\n",
    "header = dataFrame[0]\n",
    "data = [dict(zip(header, row)) for row in dataFrame[1:]]"
   ]
  },
  {
   "cell_type": "code",
   "execution_count": 12,
   "id": "f92f8388",
   "metadata": {},
   "outputs": [],
   "source": [
    "create = (\"CREATE TABLE SONG (\"\n",
    "    \"id INTEGER AUTO_INCREMENT, \"\n",
    "    \"Rank INTEGER NOT NULL, \"\n",
    "    \"Track VARCHAR(200) NOT NULL, \"\n",
    "    \"Artist VARCHAR(80) NOT NULL, \"\n",
    "    \"Streams INTEGER NOT NULL, \"\n",
    "    \"Link VARCHAR(150), \"\n",
    "    \"Week DATE NOT NULL,\"\n",
    "    \"Album_Name VARCHAR(200), \"\n",
    "    \"Duration_MS INTEGER NOT NULL, \"\n",
    "    \"Explicit BOOLEAN NOT NULL, \"\n",
    "    \"Track_Number_on_Album INTEGER, \"\n",
    "    \"Artist_Followers INTEGER NOT NULL, \"\n",
    "    \"PRIMARY KEY(id)\"\n",
    "\")\")\n",
    "\n",
    "cursor.execute(create)\n",
    "con.commit()"
   ]
  },
  {
   "cell_type": "code",
   "execution_count": null,
   "id": "abab81b1",
   "metadata": {},
   "outputs": [],
   "source": [
    "query = (\"INSERT INTO SONG (Rank, Track, Artist, Streams, Link, Week, Album_Name, Duration_MS, Explicit, Track_Number_on_Album, Artist_Followers) \"\n",
    "    \"VALUES (\"\n",
    "        \"%(Rank)s, \"\n",
    "        \"%(Track)s, \"\n",
    "        \"%(Artist)s, \"\n",
    "        \"%(Streams)s, \"\n",
    "        \"%(Link)s, \"\n",
    "        \"%(Week)s, \"\n",
    "        \"%(Album_Name)s, \"\n",
    "        \"%(Duration_MS)s, \"\n",
    "        \"%(Explicit)s, \"\n",
    "        \"%(Track_Number_on_Album)s, \"\n",
    "        \"%(Artist_Followers)s\"\n",
    "    \")\"\n",
    ")\n",
    "\n",
    "for index, song in enumerate(data):\n",
    "  cursor.execute(query, song)\n",
    "\n",
    "con.commit()\n"
   ]
  }
 ],
 "metadata": {
  "kernelspec": {
   "display_name": "Python 3",
   "language": "python",
   "name": "python3"
  },
  "language_info": {
   "codemirror_mode": {
    "name": "ipython",
    "version": 3
   },
   "file_extension": ".py",
   "mimetype": "text/x-python",
   "name": "python",
   "nbconvert_exporter": "python",
   "pygments_lexer": "ipython3",
   "version": "3.8.8"
  }
 },
 "nbformat": 4,
 "nbformat_minor": 5
}
